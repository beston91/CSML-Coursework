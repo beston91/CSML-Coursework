{
  "cells": [
    {
      "cell_type": "markdown",
      "metadata": {
        "id": "pYs6LMEbNqoQ"
      },
      "source": [
        "# RL coursework, part III (25 pts total)\n",
        "---\n",
        "\n",
        "**SN:** 20084999  \n",
        "\n",
        "---\n",
        "\n",
        "**Due date:** *22nd March, 2022,*\n",
        "\n",
        "---\n",
        "\n",
        "Standard UCL policy (including grade deductions) automatically applies for any late submissions.\n",
        "\n",
        "## How to submit\n",
        "\n",
        "When you have completed the exercises and everything has finished running, click on 'File' in the menu-bar and then 'Download .ipynb'. This file must be submitted to Moodle named as **`<studentnumber>_RL_part3.ipynb`** before the deadline above, where `<studentnumber>` is your student number."
      ]
    },
    {
      "cell_type": "markdown",
      "metadata": {
        "id": "rNuohp44N00i"
      },
      "source": [
        "# The Assignment\n",
        "\n",
        "### Objectives\n",
        "\n",
        "You will be guided through the implementation of a full deep reinforcement learning agent."
      ]
    },
    {
      "cell_type": "markdown",
      "metadata": {
        "id": "nVBcO5mAV9Ow"
      },
      "source": [
        "## Setup\n",
        "\n",
        "Run all the cells in this section, but do not modify them."
      ]
    },
    {
      "cell_type": "markdown",
      "metadata": {
        "id": "Z1p0fpbxQLyn"
      },
      "source": [
        "## Imports"
      ]
    },
    {
      "cell_type": "code",
      "execution_count": 100,
      "metadata": {
        "id": "Ps5OnkPmDbMX"
      },
      "outputs": [],
      "source": [
        "import matplotlib.pyplot as plt\n",
        "import numpy as np\n",
        "\n",
        "np.set_printoptions(precision=3, suppress=1)\n",
        "plt.style.use('seaborn-notebook')"
      ]
    },
    {
      "cell_type": "markdown",
      "metadata": {
        "id": "3lpweIqAWBX3"
      },
      "source": [
        "## Helpers"
      ]
    },
    {
      "cell_type": "markdown",
      "metadata": {
        "id": "iIRC73HLq6VH"
      },
      "source": [
        "# A) Actor-critics\n",
        "\n",
        "You are going to implement an Actor-critic agent that updates a policy parametrised as a deep neural network.\n",
        "\n",
        "The agent learns online from a single stream of experience, updating the parametes of its policy after each transition in the environment."
      ]
    },
    {
      "cell_type": "markdown",
      "metadata": {
        "id": "KV03Q3MpveUM"
      },
      "source": [
        "### Install packages"
      ]
    },
    {
      "cell_type": "code",
      "execution_count": 101,
      "metadata": {
        "id": "wc-kqp3tveUT"
      },
      "outputs": [
        {
          "name": "stdout",
          "output_type": "stream",
          "text": [
            "Requirement already satisfied: jaxlib==0.3.0 in /Users/beston/miniconda3/envs/py38/lib/python3.8/site-packages (0.3.0)\n",
            "Requirement already satisfied: scipy in /Users/beston/miniconda3/envs/py38/lib/python3.8/site-packages (from jaxlib==0.3.0) (1.8.0)\n",
            "Requirement already satisfied: flatbuffers<3.0,>=1.12 in /Users/beston/miniconda3/envs/py38/lib/python3.8/site-packages (from jaxlib==0.3.0) (2.0)\n",
            "Requirement already satisfied: numpy>=1.19 in /Users/beston/miniconda3/envs/py38/lib/python3.8/site-packages (from jaxlib==0.3.0) (1.22.3)\n",
            "Requirement already satisfied: absl-py in /Users/beston/miniconda3/envs/py38/lib/python3.8/site-packages (from jaxlib==0.3.0) (1.0.0)\n",
            "Requirement already satisfied: six in /Users/beston/miniconda3/envs/py38/lib/python3.8/site-packages (from absl-py->jaxlib==0.3.0) (1.16.0)\n",
            "fatal: destination path 'bsuite' already exists and is not an empty directory.\n",
            "Processing ./bsuite\n",
            "\u001b[33m  DEPRECATION: A future pip version will change local packages to be built in-place without first copying to a temporary directory. We recommend you use --use-feature=in-tree-build to test your packages with this new behavior before it becomes the default.\n",
            "   pip 21.3 will remove support for this functionality. You can find discussion regarding this at https://github.com/pypa/pip/issues/7555.\u001b[0m\n",
            "Requirement already satisfied: absl-py in /Users/beston/miniconda3/envs/py38/lib/python3.8/site-packages (from bsuite==0.3.5) (1.0.0)\n",
            "Requirement already satisfied: dm_env in /Users/beston/miniconda3/envs/py38/lib/python3.8/site-packages (from bsuite==0.3.5) (1.5)\n",
            "Requirement already satisfied: immutabledict in /Users/beston/miniconda3/envs/py38/lib/python3.8/site-packages (from bsuite==0.3.5) (2.2.1)\n",
            "Requirement already satisfied: matplotlib in /Users/beston/miniconda3/envs/py38/lib/python3.8/site-packages (from bsuite==0.3.5) (3.5.1)\n",
            "Requirement already satisfied: numpy in /Users/beston/miniconda3/envs/py38/lib/python3.8/site-packages (from bsuite==0.3.5) (1.22.3)\n",
            "Requirement already satisfied: pandas in /Users/beston/miniconda3/envs/py38/lib/python3.8/site-packages (from bsuite==0.3.5) (1.4.1)\n",
            "Requirement already satisfied: plotnine in /Users/beston/miniconda3/envs/py38/lib/python3.8/site-packages (from bsuite==0.3.5) (0.8.0)\n",
            "Requirement already satisfied: scipy in /Users/beston/miniconda3/envs/py38/lib/python3.8/site-packages (from bsuite==0.3.5) (1.8.0)\n",
            "Requirement already satisfied: scikit-image in /Users/beston/miniconda3/envs/py38/lib/python3.8/site-packages (from bsuite==0.3.5) (0.19.2)\n",
            "Requirement already satisfied: six in /Users/beston/miniconda3/envs/py38/lib/python3.8/site-packages (from bsuite==0.3.5) (1.16.0)\n",
            "Requirement already satisfied: termcolor in /Users/beston/miniconda3/envs/py38/lib/python3.8/site-packages (from bsuite==0.3.5) (1.1.0)\n",
            "Requirement already satisfied: dm-tree in /Users/beston/miniconda3/envs/py38/lib/python3.8/site-packages (from dm_env->bsuite==0.3.5) (0.1.6)\n",
            "Requirement already satisfied: packaging>=20.0 in /Users/beston/miniconda3/envs/py38/lib/python3.8/site-packages (from matplotlib->bsuite==0.3.5) (21.3)\n",
            "Requirement already satisfied: kiwisolver>=1.0.1 in /Users/beston/miniconda3/envs/py38/lib/python3.8/site-packages (from matplotlib->bsuite==0.3.5) (1.4.0)\n",
            "Requirement already satisfied: pyparsing>=2.2.1 in /Users/beston/miniconda3/envs/py38/lib/python3.8/site-packages (from matplotlib->bsuite==0.3.5) (3.0.7)\n",
            "Requirement already satisfied: python-dateutil>=2.7 in /Users/beston/miniconda3/envs/py38/lib/python3.8/site-packages (from matplotlib->bsuite==0.3.5) (2.8.2)\n",
            "Requirement already satisfied: cycler>=0.10 in /Users/beston/miniconda3/envs/py38/lib/python3.8/site-packages (from matplotlib->bsuite==0.3.5) (0.11.0)\n",
            "Requirement already satisfied: fonttools>=4.22.0 in /Users/beston/miniconda3/envs/py38/lib/python3.8/site-packages (from matplotlib->bsuite==0.3.5) (4.31.0)\n",
            "Requirement already satisfied: pillow>=6.2.0 in /Users/beston/miniconda3/envs/py38/lib/python3.8/site-packages (from matplotlib->bsuite==0.3.5) (9.0.1)\n",
            "Requirement already satisfied: pytz>=2020.1 in /Users/beston/miniconda3/envs/py38/lib/python3.8/site-packages (from pandas->bsuite==0.3.5) (2021.3)\n",
            "Requirement already satisfied: patsy>=0.5.1 in /Users/beston/miniconda3/envs/py38/lib/python3.8/site-packages (from plotnine->bsuite==0.3.5) (0.5.2)\n",
            "Requirement already satisfied: mizani>=0.7.3 in /Users/beston/miniconda3/envs/py38/lib/python3.8/site-packages (from plotnine->bsuite==0.3.5) (0.7.3)\n",
            "Requirement already satisfied: statsmodels>=0.12.1 in /Users/beston/miniconda3/envs/py38/lib/python3.8/site-packages (from plotnine->bsuite==0.3.5) (0.13.2)\n",
            "Requirement already satisfied: descartes>=1.1.0 in /Users/beston/miniconda3/envs/py38/lib/python3.8/site-packages (from plotnine->bsuite==0.3.5) (1.1.0)\n",
            "Requirement already satisfied: palettable in /Users/beston/miniconda3/envs/py38/lib/python3.8/site-packages (from mizani>=0.7.3->plotnine->bsuite==0.3.5) (3.3.0)\n",
            "Requirement already satisfied: networkx>=2.2 in /Users/beston/miniconda3/envs/py38/lib/python3.8/site-packages (from scikit-image->bsuite==0.3.5) (2.7.1)\n",
            "Requirement already satisfied: PyWavelets>=1.1.1 in /Users/beston/miniconda3/envs/py38/lib/python3.8/site-packages (from scikit-image->bsuite==0.3.5) (1.3.0)\n",
            "Requirement already satisfied: tifffile>=2019.7.26 in /Users/beston/miniconda3/envs/py38/lib/python3.8/site-packages (from scikit-image->bsuite==0.3.5) (2022.3.16)\n",
            "Requirement already satisfied: imageio>=2.4.1 in /Users/beston/miniconda3/envs/py38/lib/python3.8/site-packages (from scikit-image->bsuite==0.3.5) (2.16.1)\n",
            "Building wheels for collected packages: bsuite\n",
            "  Building wheel for bsuite (setup.py) ... \u001b[?25ldone\n",
            "\u001b[?25h  Created wheel for bsuite: filename=bsuite-0.3.5-py3-none-any.whl size=250371 sha256=866d815019cee69873a1d0896d11278fc3473375c733c82aae09f0be4464b49f\n",
            "  Stored in directory: /private/var/folders/g0/mmjfsnj13_vc6wh_qr_jt5qc0000gn/T/pip-ephem-wheel-cache-lrhdafzx/wheels/54/ac/3c/42c6dbbc56a575933d1ef87e432387e3b468717035d5f04f06\n",
            "Successfully built bsuite\n",
            "Installing collected packages: bsuite\n",
            "  Attempting uninstall: bsuite\n",
            "    Found existing installation: bsuite 0.3.5\n",
            "    Uninstalling bsuite-0.3.5:\n",
            "      Successfully uninstalled bsuite-0.3.5\n",
            "Successfully installed bsuite-0.3.5\n",
            "Requirement already satisfied: dm-haiku==0.0.6 in /Users/beston/miniconda3/envs/py38/lib/python3.8/site-packages (0.0.6)\n",
            "Requirement already satisfied: tabulate>=0.8.9 in /Users/beston/miniconda3/envs/py38/lib/python3.8/site-packages (from dm-haiku==0.0.6) (0.8.9)\n",
            "Requirement already satisfied: numpy>=1.18.0 in /Users/beston/miniconda3/envs/py38/lib/python3.8/site-packages (from dm-haiku==0.0.6) (1.22.3)\n",
            "Requirement already satisfied: jmp>=0.0.2 in /Users/beston/miniconda3/envs/py38/lib/python3.8/site-packages (from dm-haiku==0.0.6) (0.0.2)\n",
            "Requirement already satisfied: absl-py>=0.7.1 in /Users/beston/miniconda3/envs/py38/lib/python3.8/site-packages (from dm-haiku==0.0.6) (1.0.0)\n",
            "Requirement already satisfied: six in /Users/beston/miniconda3/envs/py38/lib/python3.8/site-packages (from absl-py>=0.7.1->dm-haiku==0.0.6) (1.16.0)\n"
          ]
        }
      ],
      "source": [
        "!pip install --upgrade jaxlib==0.3.0\n",
        "!git clone https://github.com/deepmind/bsuite.git\n",
        "!pip install bsuite/\n",
        "!pip install dm-haiku==0.0.6"
      ]
    },
    {
      "cell_type": "code",
      "execution_count": 102,
      "metadata": {
        "id": "q442-kGUvTf4"
      },
      "outputs": [
        {
          "name": "stdout",
          "output_type": "stream",
          "text": [
            "Requirement already satisfied: optax in /Users/beston/miniconda3/envs/py38/lib/python3.8/site-packages (0.1.1)\n",
            "Requirement already satisfied: jaxlib>=0.1.37 in /Users/beston/miniconda3/envs/py38/lib/python3.8/site-packages (from optax) (0.3.0)\n",
            "Requirement already satisfied: absl-py>=0.7.1 in /Users/beston/miniconda3/envs/py38/lib/python3.8/site-packages (from optax) (1.0.0)\n",
            "Requirement already satisfied: numpy>=1.18.0 in /Users/beston/miniconda3/envs/py38/lib/python3.8/site-packages (from optax) (1.22.3)\n",
            "Requirement already satisfied: typing-extensions>=3.10.0 in /Users/beston/miniconda3/envs/py38/lib/python3.8/site-packages (from optax) (4.1.1)\n",
            "Requirement already satisfied: jax>=0.1.55 in /Users/beston/miniconda3/envs/py38/lib/python3.8/site-packages (from optax) (0.3.3)\n",
            "Requirement already satisfied: chex>=0.0.4 in /Users/beston/miniconda3/envs/py38/lib/python3.8/site-packages (from optax) (0.1.1)\n",
            "Requirement already satisfied: six in /Users/beston/miniconda3/envs/py38/lib/python3.8/site-packages (from absl-py>=0.7.1->optax) (1.16.0)\n",
            "Requirement already satisfied: toolz>=0.9.0 in /Users/beston/miniconda3/envs/py38/lib/python3.8/site-packages (from chex>=0.0.4->optax) (0.11.2)\n",
            "Requirement already satisfied: dm-tree>=0.1.5 in /Users/beston/miniconda3/envs/py38/lib/python3.8/site-packages (from chex>=0.0.4->optax) (0.1.6)\n",
            "Requirement already satisfied: scipy>=1.2.1 in /Users/beston/miniconda3/envs/py38/lib/python3.8/site-packages (from jax>=0.1.55->optax) (1.8.0)\n",
            "Requirement already satisfied: opt-einsum in /Users/beston/miniconda3/envs/py38/lib/python3.8/site-packages (from jax>=0.1.55->optax) (3.3.0)\n",
            "Requirement already satisfied: flatbuffers<3.0,>=1.12 in /Users/beston/miniconda3/envs/py38/lib/python3.8/site-packages (from jaxlib>=0.1.37->optax) (2.0)\n",
            "Requirement already satisfied: rlax in /Users/beston/miniconda3/envs/py38/lib/python3.8/site-packages (0.1.2)\n",
            "Requirement already satisfied: chex>=0.0.8 in /Users/beston/miniconda3/envs/py38/lib/python3.8/site-packages (from rlax) (0.1.1)\n",
            "Requirement already satisfied: jax>=0.1.55 in /Users/beston/miniconda3/envs/py38/lib/python3.8/site-packages (from rlax) (0.3.3)\n",
            "Requirement already satisfied: distrax>=0.0.2 in /Users/beston/miniconda3/envs/py38/lib/python3.8/site-packages (from rlax) (0.1.1)\n",
            "Requirement already satisfied: numpy>=1.18.0 in /Users/beston/miniconda3/envs/py38/lib/python3.8/site-packages (from rlax) (1.22.3)\n",
            "Requirement already satisfied: jaxlib>=0.1.37 in /Users/beston/miniconda3/envs/py38/lib/python3.8/site-packages (from rlax) (0.3.0)\n",
            "Requirement already satisfied: absl-py>=0.9.0 in /Users/beston/miniconda3/envs/py38/lib/python3.8/site-packages (from rlax) (1.0.0)\n",
            "Requirement already satisfied: six in /Users/beston/miniconda3/envs/py38/lib/python3.8/site-packages (from absl-py>=0.9.0->rlax) (1.16.0)\n",
            "Requirement already satisfied: toolz>=0.9.0 in /Users/beston/miniconda3/envs/py38/lib/python3.8/site-packages (from chex>=0.0.8->rlax) (0.11.2)\n",
            "Requirement already satisfied: dm-tree>=0.1.5 in /Users/beston/miniconda3/envs/py38/lib/python3.8/site-packages (from chex>=0.0.8->rlax) (0.1.6)\n",
            "Requirement already satisfied: tensorflow-probability>=0.15.0 in /Users/beston/miniconda3/envs/py38/lib/python3.8/site-packages (from distrax>=0.0.2->rlax) (0.16.0)\n",
            "Requirement already satisfied: opt-einsum in /Users/beston/miniconda3/envs/py38/lib/python3.8/site-packages (from jax>=0.1.55->rlax) (3.3.0)\n",
            "Requirement already satisfied: scipy>=1.2.1 in /Users/beston/miniconda3/envs/py38/lib/python3.8/site-packages (from jax>=0.1.55->rlax) (1.8.0)\n",
            "Requirement already satisfied: typing-extensions in /Users/beston/miniconda3/envs/py38/lib/python3.8/site-packages (from jax>=0.1.55->rlax) (4.1.1)\n",
            "Requirement already satisfied: flatbuffers<3.0,>=1.12 in /Users/beston/miniconda3/envs/py38/lib/python3.8/site-packages (from jaxlib>=0.1.37->rlax) (2.0)\n",
            "Requirement already satisfied: gast>=0.3.2 in /Users/beston/miniconda3/envs/py38/lib/python3.8/site-packages (from tensorflow-probability>=0.15.0->distrax>=0.0.2->rlax) (0.5.3)\n",
            "Requirement already satisfied: decorator in /Users/beston/miniconda3/envs/py38/lib/python3.8/site-packages (from tensorflow-probability>=0.15.0->distrax>=0.0.2->rlax) (5.1.1)\n",
            "Requirement already satisfied: cloudpickle>=1.3 in /Users/beston/miniconda3/envs/py38/lib/python3.8/site-packages (from tensorflow-probability>=0.15.0->distrax>=0.0.2->rlax) (2.0.0)\n"
          ]
        }
      ],
      "source": [
        "# solution\n",
        "!pip install optax\n",
        "!pip install rlax"
      ]
    },
    {
      "cell_type": "markdown",
      "metadata": {
        "id": "r_pTfi5dSFX5"
      },
      "source": [
        "### Imports"
      ]
    },
    {
      "cell_type": "code",
      "execution_count": 103,
      "metadata": {
        "id": "huyKrYpvSHSu"
      },
      "outputs": [],
      "source": [
        "from bsuite.environments import catch\n",
        "\n",
        "import jax\n",
        "import jax.numpy as jnp\n",
        "import haiku as hk"
      ]
    },
    {
      "cell_type": "code",
      "execution_count": 104,
      "metadata": {
        "id": "QCWBfrXLjM4p"
      },
      "outputs": [],
      "source": [
        "# solution\n",
        "import optax\n",
        "import rlax"
      ]
    },
    {
      "cell_type": "markdown",
      "metadata": {
        "id": "M6kEki4XHbPy"
      },
      "source": [
        "### Plotting"
      ]
    },
    {
      "cell_type": "code",
      "execution_count": 105,
      "metadata": {
        "id": "EYdWwRrbHbcl"
      },
      "outputs": [],
      "source": [
        "def plot_learning_curve(list_of_episode_returns):\n",
        "  \"\"\"Plot the learning curve.\"\"\"\n",
        "  plt.figure(figsize=(7, 5))\n",
        "\n",
        "  def moving_average(x, w):\n",
        "    return np.convolve(x, np.ones(w), 'valid') / w\n",
        "\n",
        "  smoothed_returns = moving_average(list_of_episode_returns, 30)\n",
        "  plt.plot(smoothed_returns)\n",
        "\n",
        "  plt.xlabel('Average episode returns')\n",
        "  plt.xlabel('Number of episodes')\n",
        "\n",
        "  ax = plt.gca()\n",
        "  ax.spines['left'].set_visible(True)\n",
        "  ax.spines['bottom'].set_visible(True)\n",
        "  ax.spines['right'].set_visible(False)\n",
        "  ax.spines['top'].set_visible(False)\n",
        "  ax.xaxis.set_ticks_position('bottom')\n",
        "  ax.yaxis.set_ticks_position('left')"
      ]
    },
    {
      "cell_type": "markdown",
      "metadata": {
        "id": "Xtlrr5d2p7cS"
      },
      "source": [
        "### Neural networks\n",
        "\n",
        "You will use JAX to define a network parametrising:\n",
        "\n",
        "* The values of each state $v(s)$.\n",
        "* The action preferences in each state $\\{p_i(s)\\}_{i\\in\\{1, ..., |A|\\}}$ (you can think of and implement the preferences $\\mathbf{p}(s)$ as a vector output with $|A|$ elements).\n",
        "\n",
        "You will use `Haiku` (https://github.com/deepmind/dm-haiku) to define the network. You will need to:\n",
        "* define the forward pass of the network as some function `fn`\n",
        "* Use `hk.transform(fn)` to convert this in a pair of functions `init_net` and `apply_net`):\n",
        "\n",
        "\n",
        "        init_net, apply_net = hk.transform(fn)\n",
        "\n",
        "The `init` function has signature `parameters = init_net(key, obs)`, where\n",
        "  * `key` is a Jax random-number-generator key that we will generate with `jax.random.PRNGKey`,\n",
        "  * `observation` is the observation of the agent, which will be flattened into a vector by the network, as described below.\n",
        "\n",
        "The `init_net` returns randomly sampled weights for the neural network:\n",
        "\n",
        "        parameters = init_net(jax.random.PRNGKey(1234), observation)\n",
        "\n",
        "The `apply_net` will have signature `v, p = apply_net(parameters, current_key, obs)` \n",
        "  * `parameters`: the (current) parameters of the ageent,\n",
        "  * `key`: a Jax random keym, e.g., generated with `current_key, key = jax.random.split(key)` (we then keep `key`, which is also a new key, around to split again the next time we need a random key),\n",
        "  * `observation`: the observation of the agent.\n",
        "\n",
        "The `apply_net` function then returns a **scalar** value `v` and a **vector** of preferences `p`, which will define the policy of the agent.\n",
        "\n",
        "A lot of the boilerplate code has been written for you.  You just have to implement some functions as indicated in the questions below."
      ]
    },
    {
      "cell_type": "markdown",
      "metadata": {
        "id": "Gj1nsUYuOoe1"
      },
      "source": [
        "### Q1 [2 marks]\n",
        "\n",
        "Define the forward pass of the neural network. The network must:\n",
        "\n",
        "* take an `observation` as input\n",
        "* reshape the observation into a flat vector `flat_obs`\n",
        "* compute a hidden representation `h = relu(W.dot(flat_obs) + b)`, where `relu(x)` is a 'rectifier linear unit', which computes $\\max(x, 0)$ elementwise (you can just use `jax.nn.relu(x)` to implement this),\n",
        "* compute a vector of action preferences as a linear function of `h`\n",
        "* compute a scalar state value as a linear function of `h`\n",
        "* return the scalar value and vector preferences.\n",
        "\n",
        "Note:\n",
        "* The hidden representation should be a vector of 50 elements.\n",
        "* The action preferences should be a vector of 3 elements (one per each available action).\n",
        "* The value should be a scalar (not a vector with one element).\n"
      ]
    },
    {
      "cell_type": "code",
      "execution_count": 106,
      "metadata": {
        "id": "vRBP0xjtQvTi"
      },
      "outputs": [],
      "source": [
        "def forward_pass(observation):\n",
        "  # Implement forward pass here\n",
        "  flat_obs = jnp.ravel(observation)\n",
        "  net = hk.Sequential([hk.Linear(50), \n",
        "                      jax.nn.relu])\n",
        "  linear1 = hk.Linear(3)\n",
        "  linear2 = hk.Linear(1) \n",
        "  h = net(flat_obs)\n",
        "  v = linear2(h)\n",
        "  v = jnp.squeeze(v, axis=-1)\n",
        "  p = linear1(h)\n",
        "  return v, p\n",
        "\n",
        "# Our forward pass will be deterministic, so we apply `hk.without_apply_rng`.\n",
        "init_net, apply_net = hk.without_apply_rng(hk.transform(forward_pass))"
      ]
    },
    {
      "cell_type": "code",
      "execution_count": 107,
      "metadata": {},
      "outputs": [],
      "source": [
        "# params = init_net(jax.random.PRNGKey(1234),jnp.zeros((10,10)))\n",
        "# print(params)"
      ]
    },
    {
      "cell_type": "markdown",
      "metadata": {
        "id": "9ImJUgzFosvD"
      },
      "source": [
        "### Choosing actions\n",
        "\n",
        "A critical component of an actor-critic agent is a (stochastic) policy, mapping `observations` to `actions`. \n",
        "\n",
        "In deep RL, this mapping is conventionally parametrised by a deep neural network."
      ]
    },
    {
      "cell_type": "markdown",
      "metadata": {
        "id": "1MVXNWwlYW24"
      },
      "source": [
        "### Q2 [2 marks]\n",
        "\n",
        "Implement a softmax policy parametrised by the neural network above (i.e., using the `apply_net` function).\n",
        "\n",
        "The function has signature `action = softmax_policy(parameters, key, obs)`, taking the current network parameters `parameters`, a JAX random `key` and the current `observation`. It should return an `action` sampled from a softmax distribution, so that the probability of selecting action $a$ with preference $p(s, a)$ is proportional to $\\exp(p(s, a))$.\n",
        "\n",
        "Functions to perform random sampling in JAX (e.g. those in `jax.random`) take a random key as input, and they are deterministic function of such a key. In general, in a JAX program you need to use the `jax.random.split` function to generate new random keys before every new sampling. The run loop that runs the experiment later on splits the key between consecutive calls to the `policy`. Thus you can assume that a new random `key` is provided to you on each call to the `policy`. If, however, you find that you need a random key in multiple places within the `policy`, do remember to split the key before each use, using `key1, key2 = jax.random.split(key)`.\n",
        "\n",
        "Note that we 'jit' the function.  This means the function will be compiled, which will make it run faster. This does also suppress print statements, so if you are debugging and want to print please comment out the `@jax.jit` line, but don't forget to put it back before running the experiment below, and especially before submitting your assignment."
      ]
    },
    {
      "cell_type": "code",
      "execution_count": 108,
      "metadata": {
        "id": "x-FSOYNOYnUx"
      },
      "outputs": [],
      "source": [
        "@jax.jit\n",
        "def softmax_policy(parameters, key, obs):\n",
        "  \"\"\"Sample action from a softmax policy.\"\"\"\n",
        "  v, p = apply_net(parameters, obs)\n",
        "  logits = jax.nn.softmax(p)\n",
        "  action = jax.random.choice(key, jnp.arange(0,3), p=logits) \n",
        "  return action"
      ]
    },
    {
      "cell_type": "markdown",
      "metadata": {
        "id": "iMYcb7Y9krnT"
      },
      "source": [
        "### Learning values and policies\n",
        "\n",
        "An actor-critic agent requires to update the parameters of the network so as to simultaneously improve the value predictions and the policy.\n",
        "\n",
        "In the next section you will define the gradient updates for each of these two components."
      ]
    },
    {
      "cell_type": "markdown",
      "metadata": {
        "id": "GsIlpmNEk5fv"
      },
      "source": [
        "### Q3 [4 marks]\n",
        "\n",
        "Implement a function to compute a stochastic estimate of the policy gradient from a 1 step transition in the environment.\n",
        "\n",
        "* You will use $R_{t+1} + \\gamma v(S_{t+1})$ as an estimate of $q_{\\pi}(S_t, A_t)$\n",
        "* You will use $v(S_{t})$ as a baseline to reduce the variance of the updates.\n",
        "\n",
        "In the code we actually use names `obs_tm1`, `a_tm1` (where `tm1` stands for '$t$ minus one') for the observation and action at time $t-1$, and `r_t`, `discount_t`, `obs_t` for the reward, discount, and observation at time $t$. So the code is offset a single time step in terms of naming as compared to the typical mathematical formulations.  This is just a naming convention, and should not impact the algorithm.\n",
        "\n",
        "The function below must therefore have signature `grads = policy_gradient(parameters, obs_tm1, a_tm1, r_t, discount_t, obs_t)`.\n",
        "* Where the inputs are:\n",
        "  * `parameters`: the parameters of the network,\n",
        "  * an observation `obs_tm1`\n",
        "  * the action `a_tm1` selected after observing `obs_tm1`,\n",
        "  * the resulting reward `r_t` and discount `discount_t` and observation `obs_t`, as obsesrved after taking action `a_tm1`.\n",
        "\n",
        "This function should return a stochastic estimate of the policy gradient, where `grads` has the same structure as `parameters` and contains an estimate of the gradient of the expected episodic return wrt to each parameter.\n",
        "\n",
        "The policy-gradient estimate should use bootstrapping, using the value estimates that can be gotten using the saame `parameters` as used for the policy.  So the output of this function can be used in a one-step actor-critic update."
      ]
    },
    {
      "cell_type": "markdown",
      "metadata": {
        "id": "02RJAKiX85Wx"
      },
      "source": [
        "\n",
        "### Jax hint:\n",
        "Note that you can use `jax.grad(f)` to get the gradient of any (pure) jax function with a scalar output.  For instance, consider:\n",
        "\n",
        "        def f(w, x, y):\n",
        "          # w, x, and y are all vectors\n",
        "          return jnp.sum(w*x + y)\n",
        "\n",
        "        df = jax.grad(f)\n",
        "    \n",
        "then calling `df(w, x, y)` will give the gradient of the output of `f(w, x, y)` with respect to the first input argument --- here called `w`. You can use this new function `df` as just a normal function. For instance, it can be called from other functions, as usual.\n",
        "\n",
        "Run the cell below to see a concrete example in action.  Note that `df(w, x, y)` in the example below evaluates to the same values as `x`.  This is correct, because the gradient of `f` with respect to `w` is indeed `x`."
      ]
    },
    {
      "cell_type": "code",
      "execution_count": 109,
      "metadata": {
        "id": "t1TjveqqGnNA"
      },
      "outputs": [
        {
          "name": "stdout",
          "output_type": "stream",
          "text": [
            "f(w, x, y):  31.0\n",
            "df(w, x, y): [3. 5.]\n"
          ]
        }
      ],
      "source": [
        "def f(w, x, y):\n",
        "  return jnp.sum(w*x + y)\n",
        "\n",
        "df = jax.grad(f)\n",
        "\n",
        "w = jnp.array([1., 2.])\n",
        "x = jnp.array([3., 5.])\n",
        "y = jnp.array([7., 11.])\n",
        "\n",
        "print(f'f(w, x, y):  {f(w, x, y)}')\n",
        "print(f'df(w, x, y): {df(w, x, y)}')"
      ]
    },
    {
      "cell_type": "markdown",
      "metadata": {
        "id": "wngNEiwrQeF0"
      },
      "source": [
        "### Jax hint:\n",
        "if you have a Haiku network with parameters `w`, then these parameters will typically be a structured dictionary containing the actual weight vectors and matrices that make up the network's parameters.  Suppose you have a function that computes the output of a network, and then uses this to do some stuff, and you want the gradient of that function:\n",
        "\n",
        "        # Define network\n",
        "        def some_haiku_net(...):\n",
        "          ...\n",
        "\n",
        "        # Transform to get init and apply\n",
        "        init, apply = hk.without_apply_rng(hk.transform(some_haiku_net))\n",
        "\n",
        "        # Define a new function\n",
        "        def some_function(w, x, y):\n",
        "           ...some stuff...\n",
        "           # compute output of the network:\n",
        "           output = apply(w, x)\n",
        "           ...some more stuff that uses output...\n",
        "           return ...some_scalar...\n",
        "        \n",
        "        grad_function = jax.grad(some_function)\n",
        "\n",
        "As before, `grads = grad_function(w, x, y)` should now give the gradients of `some_function` with respect to the first input argument, `w`.  These gradients `grads` will have exactly the same shape as the input argment `w`.  But we cannot do things like `w + grads`, because `w` and `grads` are both dictionaries, not just `jnp.array`s.  Instead, we can use Jax' inbuilt tree utils.  For instance, to add the gradients to the weights, we can use:\n",
        "`new_weights = jax.tree_map(lambda w_i, g_i: w_i + 0.1 * g_i, w, grads)`\n"
      ]
    },
    {
      "cell_type": "code",
      "execution_count": 110,
      "metadata": {
        "id": "AHLGjy8he6vh"
      },
      "outputs": [],
      "source": [
        "def policy_loss(parameters, obs_tm1, a_tm1, r_t, discount_t, obs_t):\n",
        "  v_next, a_next = apply_net(parameters, obs_t)\n",
        "  v_baseline, a_current = apply_net(parameters, obs_tm1)\n",
        "  delta = r_t + discount_t * jax.lax.stop_gradient(v_next) - jax.lax.stop_gradient(v_baseline)\n",
        "  log_p = jax.nn.log_softmax(a_current)[a_tm1]\n",
        "  return delta * log_p\n",
        "  \n",
        "def policy_gradient(parameters, obs_tm1, a_tm1, r_t, discount_t, obs_t):\n",
        "  return jax.grad(policy_loss)(parameters, obs_tm1, a_tm1, r_t, discount_t, obs_t)"
      ]
    },
    {
      "cell_type": "markdown",
      "metadata": {
        "id": "5XgjefrBlIGN"
      },
      "source": [
        "### Q4 [4 marks]\n",
        "\n",
        "Implement a function to compute a TD(0) update for the parameters of the value function.\n",
        "\n",
        "It must have signature `td_update = value_update(parameters, obs_tm1, a_tm1, r_t, discount_t, obs_t)`.\n",
        "* Where the inputs are:\n",
        "  * the current parameters `parameters` of the network,\n",
        "  * an observation `obs_tm1`\n",
        "  * the action `a_tm1` selected after observing `obs_tm1`,\n",
        "  * the resulting reward `r_t` and environment discount `discount_t` \n",
        "  * and the following observation `obs_t`\n",
        "* Returns a stochastic TD(0) semi-gradient update: `td_update` has the same structure as `parameters`. This contains a stochastic estimate of the negative semi-gradient of the expected value prediction loss: a TD(0) update."
      ]
    },
    {
      "cell_type": "code",
      "execution_count": 111,
      "metadata": {
        "id": "CAONu72iTpzx"
      },
      "outputs": [],
      "source": [
        "def value_loss(parameters, obs_tm1, a_tm1, r_t, discount_t, obs_t):\n",
        "  v_next, a_next = apply_net(parameters, obs_t)\n",
        "  v_baseline, a_current = apply_net(parameters, obs_tm1)\n",
        "  delta = r_t + discount_t * jax.lax.stop_gradient(v_next) - jax.lax.stop_gradient(v_baseline)\n",
        "  return delta * v_baseline \n",
        "def value_update(parameters, obs_tm1, a_tm1, r_t, discount_t, obs_t):\n",
        "  return jax.grad(value_loss)(parameters, obs_tm1, a_tm1, r_t, discount_t, obs_t)"
      ]
    },
    {
      "cell_type": "markdown",
      "metadata": {
        "id": "jAXgLZg8mfMd"
      },
      "source": [
        "### Updating shared parameters\n",
        "\n",
        "The policy gradient identifies the direction of change in the parameters that most steeply improve the policy.\n",
        "The value update identifies the direction of change in the parameters that improves the value predictions (according to TD).\n",
        "\n",
        "However, the value and policy share some of the parameters of the network.  How do we combine the two gradient updates?\n",
        "\n",
        "In this assignment, we simply sum the policy and value components.\n",
        "The function that combines the two gradients is implemented for you in the cell below.  Note the use of `jax.tree_multimap` to facilitate adding the structured parameters."
      ]
    },
    {
      "cell_type": "code",
      "execution_count": 112,
      "metadata": {
        "id": "uhKCLe8jjkdZ"
      },
      "outputs": [],
      "source": [
        "@jax.jit\n",
        "def compute_gradient(parameters, obs_tm1, a_tm1, r_t, discount_t, obs_t):\n",
        "  pgrads = policy_gradient(parameters, obs_tm1, a_tm1, r_t, discount_t, obs_t)\n",
        "  td_update = value_update(parameters, obs_tm1, a_tm1, r_t, discount_t, obs_t)\n",
        "  return jax.tree_multimap(lambda pg, td: pg + td, pgrads, td_update)"
      ]
    },
    {
      "cell_type": "markdown",
      "metadata": {
        "id": "tYaVb6GcpCRe"
      },
      "source": [
        "### Optimisation\n",
        "\n",
        "In deep learning, gradient updates are typically rescaled and modifed to avoid taking too large a step on a single update (e.g., due to large variance), and to facilitate the optimisation process (it turns out raw stochatic gradients are often not the most effective for updating neural networks).\n",
        "\n",
        "For instance given a candidate gradient update $\\nabla$ we may update our parameters $\\theta$ by;\n",
        "$$\\Delta \\theta = \\theta + \\alpha * \\nabla\\,,$$\n",
        "where $\\alpha$ is a small number between 0 and 1 (e.g., $\\alpha=0.01$ or $\\alpha=0.001$), referred to as `step_size` or `learning_rate`\n",
        "\n",
        "The gradients with respect to each weight of a neural network may however have very different magnitudes. This can make it hard to set a suitable learning rate $\\alpha$.\n",
        "\n",
        "In deep learning, and deep RL, we typically use adaptive learning rates, for instance by rescaling each component of the gradient using statistics tracking the typical size of the updates to that weight. Then the entire update is rescaled using a global `learning_rate` $\\alpha$.\n"
      ]
    },
    {
      "cell_type": "markdown",
      "metadata": {
        "id": "hbFePWfApaMU"
      },
      "source": [
        "### Q5 [2 marks]\n",
        "\n",
        "A popular approach to adaptive gradient rescaling was introduced by the `Adam` algorithm.\n",
        "This algorithm implements the following procedure before applying each update:\n",
        "* Increase an update counter $k \\gets k+1$ (starting at k=0 before any updates),\n",
        "* Update the first moment of each gradient component $\\mu \\gets (1 - \\beta_1) g + \\beta_1 \\mu$ where $g$ is the latest stochastic gradient, where $\\beta_1$ is a parameter for the moving average.\n",
        "* Update the second moment of each gradient component $\\nu_i = (1 - \\beta_2) g_i ^ 2 + \\beta_2 \\nu_i $ where $g$ is the latest gradient update, where $\\beta_2$ is a parameter for the moving average.\n",
        "* Use the following update to update the weights:\n",
        "$$\\Delta w = \\alpha \\frac{\\mu / (1 - \\beta_1 ^ {k})}{\\epsilon + \\sqrt{\\nu / (1 - \\beta_1 ^ {k})}}$$\n",
        "* $\\alpha$ is a global `learning rate`\n",
        "* $\\beta_1$ and $\\beta_2$ define a soft horizon for the per-weight statistics.\n",
        "* $\\epsilon$ makes the rescaling more robust to numerical issues.\n",
        "\n",
        "(See [Kingma et al, 2014](https://arxiv.org/abs/1412.6980) for details, if you are interested.)\n",
        "\n",
        "In the next cell define a pair of functions (`opt_init`, and `opt_update` --- in each case `opt` is short for 'optimiser'), where:\n",
        "\n",
        "The `opt_init` function has signature `opt_state = opt_init(parameters)`.\n",
        "* Takes the network parameters as inputs\n",
        "* Initialises an `optimiser state` holding the per weight statistics.\n",
        "\n",
        "The `opt_update` function has signature `updates, opt_state = opt_update(grads, opt_state)`.\n",
        "* Takes a `gradient` and an `optimisers state`,\n",
        "* and returns the transformed gradient and the updated `optimiser state`.\n",
        "\n",
        "The optimiser state `opt_state` should contain:\n",
        "* The first-order momentum $\\mu$, as updated with a moving-average-parameter $\\beta_1$ which we call `b1` in the code.\n",
        "* The first-order momentum $\\nu$, as updated with a moving-average-parameter $\\beta_2$ which we call `b2` in the code.\n",
        "\n",
        "We will ignore the initial correction Adam typically uses, and will instead use the simpler transformation:\n",
        "$$\\Delta w = \\alpha \\frac{\\mu}{\\epsilon + \\sqrt{\\nu}}$$\n",
        "\n",
        "Set the algorithm's hyper-parameters to $\\alpha=0.003$, $\\beta_1=.9$ and $\\beta_2=.999$, $\\epsilon=10^{-4}$.  You are allowed to hard-code these in, or make them configurable (e.g., pass them as additional arguments to `opt_update`, which is better if you want to play around, of course).  Set the initial moving averages to zero for $\\mu$ and one for $\\nu$.  E.g.,\n",
        "\n",
        "        mu = jax.tree_multimap(jnp.zeros_like, parameters)"
      ]
    },
    {
      "cell_type": "code",
      "execution_count": 113,
      "metadata": {
        "id": "017XRA_BpbZx"
      },
      "outputs": [],
      "source": [
        "def opt_init(parameters):\n",
        "  k = 0\n",
        "  flattened_params, unravel_fn = jax.flatten_util.ravel_pytree(parameters)\n",
        "  u = jnp.zeros_like(flattened_params)\n",
        "  v = jnp.ones_like(flattened_params)\n",
        "  return u, v, k\n",
        "\n",
        "def opt_update(grads, opt_state, alpha = 0.003, beta1 = 0.9, beta2 = 0.999, eps = 1e-4):\n",
        "  u, v, k = opt_state\n",
        "  k += 1\n",
        "\n",
        "  flattened_g, unravel_fn = jax.flatten_util.ravel_pytree(grads)\n",
        "  # Update\n",
        "  u = (1 - beta1) * flattened_g + beta1 * u\n",
        "  v = (1 - beta2) * jnp.square(flattened_g) + beta2 * v\n",
        "  updates = alpha * (u / (jnp.sqrt(v) + eps))\n",
        "  updates = unravel_fn(updates)\n",
        "  return updates, (u, v, k)"
      ]
    },
    {
      "cell_type": "markdown",
      "metadata": {
        "id": "DczWvZfNSnTj"
      },
      "source": [
        "### Run experiments\n",
        "\n",
        "Run the cell below to show the performance of the resulting agent.\n",
        "\n",
        "You may also use this section for debugging your implementations.\n",
        "\n",
        "Note however, that most functions are `jitted` for performance,\n",
        "* either using the `@jax.jit` decorator in the function definition\n",
        "* or calling explicitely `fn = jax.jit(fn)`\n",
        "\n",
        "When jitting, the code is compiled on the first time the function is executed\n",
        "* and execution is much faster on subsequent calls.\n",
        "* a notable side effect is that print statements in a jitted function will only execute on the first execution of the function.\n",
        "* to drop into a debugger or print on each function execution you will have to disable the `@jax.jit` annotations and jax.jit calls."
      ]
    },
    {
      "cell_type": "code",
      "execution_count": 114,
      "metadata": {
        "id": "Fz837XTkLxE8"
      },
      "outputs": [
        {
          "name": "stdout",
          "output_type": "stream",
          "text": [
            "Training agent for 1500 episodes...\n"
          ]
        },
        {
          "data": {
            "image/png": "[encoded data removed]",
            "text/plain": [
              "<Figure size 504x360 with 1 Axes>"
            ]
          },
          "metadata": {
            "needs_background": "light"
          },
          "output_type": "display_data"
        }
      ],
      "source": [
        "# DO NOT CHANGE THIS CELL\n",
        "\n",
        "# Experiment configs.\n",
        "train_episodes = 1500\n",
        "discount_factor = .99\n",
        "\n",
        "# Create environment.\n",
        "env = catch.Catch(seed=42)\n",
        "\n",
        "# Build and initialize network.\n",
        "rng = jax.random.PRNGKey(44)\n",
        "rng, init_rng = jax.random.split(rng)\n",
        "sample_input = env.observation_spec().generate_value()\n",
        "parameters = init_net(init_rng, sample_input)\n",
        "\n",
        "# Initialize optimizer state.\n",
        "opt_state = opt_init(parameters)\n",
        "\n",
        "# Apply updates\n",
        "def apply_updates(params, updates):\n",
        "  return jax.tree_multimap(lambda p, u: p + u, params, updates)\n",
        "\n",
        "# Jit.\n",
        "opt_update = jax.jit(opt_update)\n",
        "apply_updates = jax.jit(apply_updates)\n",
        "\n",
        "print(f\"Training agent for {train_episodes} episodes...\")\n",
        "all_episode_returns = []\n",
        "\n",
        "for _ in range(train_episodes):\n",
        "  episode_return = 0.\n",
        "  timestep = env.reset()\n",
        "  obs_tm1 = timestep.observation\n",
        "\n",
        "  # Sample initial action.\n",
        "  rng, policy_rng = jax.random.split(rng)\n",
        "  a_tm1 = softmax_policy(parameters, policy_rng, obs_tm1)\n",
        "\n",
        "  while not timestep.last():\n",
        "    # Step environment.\n",
        "    new_timestep = env.step(int(a_tm1))\n",
        "\n",
        "    # Sample action from agent policy.\n",
        "    rng, policy_rng = jax.random.split(rng)\n",
        "    a_t = softmax_policy(parameters, policy_rng, new_timestep.observation)\n",
        "\n",
        "    # Update params.\n",
        "    r_t = new_timestep.reward\n",
        "    discount_t = discount_factor * new_timestep.discount\n",
        "    dJ_dtheta = compute_gradient(\n",
        "        parameters, obs_tm1, a_tm1, r_t, discount_t,\n",
        "        new_timestep.observation)\n",
        "    updates, opt_state = opt_update(dJ_dtheta, opt_state)\n",
        "    parameters = apply_updates(parameters, updates)\n",
        "\n",
        "    # Within episode book-keeping.\n",
        "    episode_return += new_timestep.reward\n",
        "    timestep = new_timestep\n",
        "    obs_tm1 = new_timestep.observation\n",
        "    a_tm1 = a_t\n",
        "\n",
        "  # Experiment results tracking.\n",
        "  all_episode_returns.append(episode_return)\n",
        "\n",
        "# Plot learning curve.\n",
        "plot_learning_curve(all_episode_returns)"
      ]
    },
    {
      "cell_type": "markdown",
      "metadata": {
        "id": "9dowFJ_l-32A"
      },
      "source": [
        "# B) An alternative update\n",
        "\n",
        "You are going to implement a different kind of agent.\n",
        "\n",
        "Like an actor-critic, it learns online from a single stream of experience, updating the parametes after each transition in the environment."
      ]
    },
    {
      "cell_type": "markdown",
      "metadata": {
        "id": "aQD0Qw8-_QJy"
      },
      "source": [
        "### Neural networks\n",
        "\n",
        "\n",
        "The agent will reuse the same neural network we defined for the actor-critic:\n",
        "* the scalar output will be trained via TD to estimate state values\n",
        "* the vector preferences `p` will be updated according to a different rule."
      ]
    },
    {
      "cell_type": "markdown",
      "metadata": {
        "id": "I6j0AIF8GhdR"
      },
      "source": [
        "### Choosing actions\n",
        "\n",
        "As in actor-critics, the (stochastic) mapping from `observations` to `actions` depends on the vector of preferences `p` from the network."
      ]
    },
    {
      "cell_type": "markdown",
      "metadata": {
        "id": "jE00LhDL_nbC"
      },
      "source": [
        "### Q6 [2 marks]\n",
        "\n",
        "The new agent's policy will have the signature `action = epsilon_greedy_policy(parameters, key, observation)`,\n",
        "* Take as inputs the current network parameters `parameters`, a JAX random `key` and the current `observation`\n",
        "* Return with probability `0.9` the greedy `action` with respect to the preferences `p`, ties must be broken at random.\n",
        "* Return an action uniformly at random with probability `0.1`"
      ]
    },
    {
      "cell_type": "code",
      "execution_count": 115,
      "metadata": {
        "id": "8IwTDROL_Lx5"
      },
      "outputs": [],
      "source": [
        "# @jax.jit\n",
        "def epsilon_greedy_policy(parameters, key, observation):\n",
        "  \"\"\"Sample action from an epsilon-greedy policy.\"\"\"\n",
        "  v, p = apply_net(parameters, observation)\n",
        "  logits = jax.nn.softmax(p)\n",
        "  \n",
        "  # if np.random.rand(1) < 0.9:\n",
        "  #   greedy_action = (logits == jnp.max(logits))\n",
        "  #   greedy_prob = greedy_action / greedy_action.sum()\n",
        "  #   action = jax.random.choice(key, p.shape[0], p=greedy_prob)\n",
        "  # else:\n",
        "  #   action = jax.random.choice(key, jnp.arange(0,3))\n",
        "  key1, key2 = jax.random.split(key)\n",
        "  greedy_action = (logits == jnp.max(logits))\n",
        "  greedy_prob = greedy_action / greedy_action.sum()\n",
        "  greedy_action = jax.random.choice(key1, p.shape[0], p=greedy_prob)\n",
        "\n",
        "  random_action = jax.random.choice(key2, jnp.arange(0,3))\n",
        "\n",
        "  key1, key2 = jax.random.split(key1)\n",
        "\n",
        "  action = jnp.where(jax.random.uniform(key1) < 0.1, random_action, greedy_action)\n",
        "  return action"
      ]
    },
    {
      "cell_type": "markdown",
      "metadata": {
        "id": "l1zQiRX5BfeA"
      },
      "source": [
        "### Q7 [3 marks]\n",
        "\n",
        "The parameters $w_p$ of the preferences $p_{w_p}(s, a)$ will be update according to the following gradient-based update:\n",
        "\n",
        "$$\\Delta w_p = \\alpha (R_{t+1} + \\gamma v(S_{t+1}) - p(S_{t}, A_t)) \\nabla p(S_t, A_t))$$\n",
        "\n",
        "where `v` is the state value trained by TD as in the actor critic.\n",
        "\n",
        "You musy implement this in the function `preference_gradient`, with the same signature as `policy_gradient`"
      ]
    },
    {
      "cell_type": "code",
      "execution_count": 116,
      "metadata": {
        "id": "6fQhAWXqLNt-"
      },
      "outputs": [],
      "source": [
        "def preference_current(parameters, obs_tm1, a_tm1):\n",
        "  _, a_current = apply_net(parameters, obs_tm1)\n",
        "  return a_current[a_tm1]\n",
        "\n",
        "def preference_gradient(parameters, obs_tm1, a_tm1, r_t, discount_t, obs_t):\n",
        "  v_next, _ = apply_net(parameters, obs_t)\n",
        "  pref_current = preference_current(parameters, obs_tm1, a_tm1)\n",
        "  delta = r_t + discount_t*v_next - pref_current\n",
        "  pref_grad = jax.grad(preference_current)\n",
        "  pref_grad = pref_grad(parameters, obs_tm1, a_tm1)\n",
        "  grads = jax.tree_map(lambda g_i: delta * g_i, pref_grad)\n",
        "  \n",
        "  return grads"
      ]
    },
    {
      "cell_type": "markdown",
      "metadata": {
        "id": "hz4RFKnVF8E8"
      },
      "source": [
        "### Updating shared parameters\n",
        "\n",
        "Just like in the actor critic the overall update to the parameters is a combination of two quantities:\n",
        "* the new update we defined for the vector of preferences\n",
        "* the same TD update to the scalar output that we used in the actor critic"
      ]
    },
    {
      "cell_type": "code",
      "execution_count": 117,
      "metadata": {
        "id": "QnghCzKhF-gI"
      },
      "outputs": [],
      "source": [
        "@jax.jit\n",
        "def compute_gradient(parameters, obs_tm1, a_tm1, r_t, discount_t, obs_t):\n",
        "  pgrads = preference_gradient(parameters, obs_tm1, a_tm1, r_t, discount_t, obs_t)\n",
        "  vgrads = value_update(parameters, obs_tm1, a_tm1, r_t, discount_t, obs_t)\n",
        "  return jax.tree_multimap(lambda pg, td: pg + td, pgrads, vgrads)"
      ]
    },
    {
      "cell_type": "markdown",
      "metadata": {
        "id": "44QBKEF4HFK8"
      },
      "source": [
        "### Optimisation\n",
        "\n",
        "The gradient updates are rescaled using the same optimiser used for the actor-critic."
      ]
    },
    {
      "cell_type": "markdown",
      "metadata": {
        "id": "dbdHQo23FJit"
      },
      "source": [
        "### Run experiments\n",
        "\n",
        "Run the cell below to show the performance of the new agent."
      ]
    },
    {
      "cell_type": "code",
      "execution_count": 119,
      "metadata": {
        "id": "ept5NG1oFLnu"
      },
      "outputs": [
        {
          "name": "stdout",
          "output_type": "stream",
          "text": [
            "Training agent for 15000 episodes...\n",
            "0.8352\n"
          ]
        },
        {
          "data": {
            "image/png": "[encoded data removed]",
            "text/plain": [
              "<Figure size 504x360 with 1 Axes>"
            ]
          },
          "metadata": {
            "needs_background": "light"
          },
          "output_type": "display_data"
        }
      ],
      "source": [
        "# DO NOT CHANGE THIS CELL\n",
        "\n",
        "# Experiment configs.\n",
        "train_episodes = 15000\n",
        "discount_factor = .99\n",
        "\n",
        "# Create environment.\n",
        "env = catch.Catch(seed=42)\n",
        "\n",
        "# Build and initialize network.\n",
        "rng = jax.random.PRNGKey(44)\n",
        "rng, init_rng = jax.random.split(rng)\n",
        "sample_input = env.observation_spec().generate_value()\n",
        "parameters = init_net(init_rng, sample_input)\n",
        "\n",
        "# Initialize optimizer state.\n",
        "opt_state = opt_init(parameters)\n",
        "\n",
        "# Apply updates\n",
        "def apply_updates(params, updates):\n",
        "  return jax.tree_multimap(lambda p, u: p + u, params, updates)\n",
        "\n",
        "# Jit.\n",
        "opt_update = jax.jit(opt_update)\n",
        "apply_updates = jax.jit(apply_updates)\n",
        "\n",
        "print(f\"Training agent for {train_episodes} episodes...\")\n",
        "all_episode_returns = []\n",
        "\n",
        "for _ in range(train_episodes):\n",
        "  episode_return = 0.\n",
        "  timestep = env.reset()\n",
        "  obs_tm1 = timestep.observation\n",
        "\n",
        "  # Sample initial action.\n",
        "  rng, policy_rng = jax.random.split(rng)\n",
        "  a_tm1 = epsilon_greedy_policy(parameters, policy_rng, obs_tm1)\n",
        "\n",
        "  while not timestep.last():\n",
        "    # Step environment.\n",
        "    new_timestep = env.step(int(a_tm1))\n",
        "\n",
        "    # Sample action from agent policy.\n",
        "    rng, policy_rng = jax.random.split(rng)\n",
        "    a_t = epsilon_greedy_policy(parameters, policy_rng, new_timestep.observation)\n",
        "\n",
        "    # Update params.\n",
        "    r_t = new_timestep.reward\n",
        "    discount_t = discount_factor * new_timestep.discount\n",
        "\n",
        "    dJ_dtheta = compute_gradient(\n",
        "        parameters, obs_tm1, a_tm1, r_t, discount_t,\n",
        "        new_timestep.observation)\n",
        "    updates, opt_state = opt_update(dJ_dtheta, opt_state)\n",
        "    parameters = apply_updates(parameters, updates)\n",
        "\n",
        "    # Within episode book-keeping.\n",
        "    episode_return += new_timestep.reward\n",
        "    timestep = new_timestep\n",
        "    obs_tm1 = new_timestep.observation\n",
        "    a_tm1 = a_t\n",
        "\n",
        "  # Experiment results tracking.\n",
        "  all_episode_returns.append(episode_return)\n",
        "\n",
        "# Plot learning curve.\n",
        "plot_learning_curve(all_episode_returns)"
      ]
    },
    {
      "cell_type": "markdown",
      "metadata": {
        "id": "g80tBzfsBgya"
      },
      "source": [
        "### Q8 [6 marks]\n",
        "\n",
        "[2pts]: What is the best asymptotic average return that can be achieved by the actor-critic agent described in `Part 2A)`? Can this be futher improved, and if so: how? Explain your answer.\n",
        "\n",
        "> The best asymptotic average return would be 1 as it acts greedily as t go to infinity. Our agent will learn to behave optimally and catch the ball (+1 reward). This means our policy would be GLIE, and according to theorem, it converges to optimal action-value function. We can't improve this further as 1 is the highest average return we can get.\n",
        "\n",
        "[2pts] What is the best asymptotic average return that can be achieved by the second agent described in `Part 2B)`? Can this be futher improved, and if so: how? Explain your answer.\n",
        "\n",
        "> Best asymptotic average return would be roughly (0.9 + 0.1 * (1/3)) -  (0.1 * (2/3)) = 0.867, since 1 in 10 times the agent will act randomly even when t tends to infinity, and when we act randomly there is a 2/3 times that we select the non-optimal action.\n",
        "> We can potentially improve this by decaying the probability of selecting random action. An example would be $\\epsilon = \\frac{1}{\\sqrt{t}}$\n",
        "\n",
        "[2pts] What quantity do the preferences `p` estimate in the second agent described in Part B?\n",
        "\n",
        "> Normally the preferences are not values but the way we are updating it, it estimates the state-action value q(s,a) of the $\\epsilon$-greedy policy. "
      ]
    },
    {
      "cell_type": "code",
      "execution_count": null,
      "metadata": {
        "id": "0BJrDzXJxTl7"
      },
      "outputs": [],
      "source": []
    }
  ],
  "metadata": {
    "colab": {
      "collapsed_sections": [],
      "last_runtime": {
        "build_target": "//learning/deepmind/dm_python:dm_notebook3",
        "kind": "private"
      },
      "name": "UCL RL assignment 2022, part III",
      "private_outputs": true,
      "provenance": [
        {
          "file_id": "1FmDlMclrG5eY-YjKtD8aGk0VacDzO4fm",
          "timestamp": 1645466985736
        }
      ],
      "toc_visible": true
    },
    "kernelspec": {
      "display_name": "Python 3",
      "name": "python3"
    },
    "language_info": {
      "codemirror_mode": {
        "name": "ipython",
        "version": 3
      },
      "file_extension": ".py",
      "mimetype": "text/x-python",
      "name": "python",
      "nbconvert_exporter": "python",
      "pygments_lexer": "ipython3",
      "version": "3.8.11"
    }
  },
  "nbformat": 4,
  "nbformat_minor": 0
}
